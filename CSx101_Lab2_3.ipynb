{
  "nbformat": 4,
  "nbformat_minor": 2,
  "metadata": {
    "colab": {
      "name": "CSx101.Lab2-3.ipynb",
      "provenance": [],
      "include_colab_link": true
    },
    "kernelspec": {
      "name": "python3",
      "display_name": "Python 3"
    }
  },
  "cells": [
    {
      "cell_type": "markdown",
      "source": [
        "<a href=\"https://colab.research.google.com/github/christopherohit/CSx101-A1-2021-02/blob/master/CSx101_Lab2_3.ipynb\" target=\"_parent\"><img src=\"https://colab.research.google.com/assets/colab-badge.svg\" alt=\"Open In Colab\"/></a>"
      ],
      "metadata": {
        "id": "view-in-github",
        "colab_type": "text"
      }
    },
    {
      "cell_type": "markdown",
      "source": [
        "# CSx101 - TƯ DUY LẬP TRÌNH VỚI PYTHON\n",
        "\n",
        "Lớp CSx101-A1"
      ],
      "metadata": {
        "id": "qYjoagGcuYmq"
      }
    },
    {
      "cell_type": "markdown",
      "source": [
        "## Số lớn nhất - nhỏ nhất của dãy số\n",
        "\n",
        "Viết hàm trả về số lớn nhất, và số nhỏ nhất của một dãy số"
      ],
      "metadata": {
        "id": "9CUHdHZe1Q2F"
      }
    },
    {
      "cell_type": "code",
      "execution_count": 1,
      "source": [
        "def findMinMax(arr):\r\n",
        "    k = 0\r\n",
        "    m = 2\r\n",
        "    for i in arr:\r\n",
        "        if i > k :\r\n",
        "            k = i\r\n",
        "        elif i < m:\r\n",
        "            m = i\r\n",
        "    print(int(k), int(m))\r\n",
        "\r\n",
        "\r\n",
        "\r\n",
        "arr = [2, 3, 4, 6]\r\n",
        "findMinMax(arr)\r\n",
        "\r\n",
        "# Kết quả "
      ],
      "outputs": [
        {
          "output_type": "stream",
          "name": "stdout",
          "text": [
            "6 2\n"
          ]
        }
      ],
      "metadata": {
        "id": "Rk-3yHVazWf6",
        "outputId": "b4de9983-d1ed-4052-8961-2938907269bf",
        "colab": {
          "base_uri": "https://localhost:8080/"
        }
      }
    },
    {
      "cell_type": "markdown",
      "source": [
        "## Hoán đổi vị trí phần tử đầu và phần cuối của một dãy số\n",
        "\n",
        "Viết hoán đổi phần tử đầu và phần tử cuối của một dãy số\n",
        "\n",
        "Ví dụ:\n",
        "* Input: 1 2 3 4 5\n",
        "* Output: 5 2 3 4 1"
      ],
      "metadata": {
        "id": "nmHh7xWnhhp_"
      }
    },
    {
      "cell_type": "code",
      "execution_count": null,
      "source": [
        "def swapList(arr):\r\n",
        "  # code của bạn ở đây\r\n",
        "  pass\r\n"
      ],
      "outputs": [],
      "metadata": {
        "id": "QfjAATq7zZLY"
      }
    },
    {
      "cell_type": "markdown",
      "source": [
        "## Kiểm tra một phần tử có trong dãy số \n",
        "\n",
        "Viết hàm kiểm tra một phần tử có trong dãy số cho trước hay không\n",
        "\n",
        "Ví dụ:\n",
        "* Input: dãy số 1, 2, 3, 4, 5 và phần tử cần kiểm tra là 9\n",
        "* Output: False"
      ],
      "metadata": {
        "id": "leCn2xFwubkR"
      }
    },
    {
      "cell_type": "code",
      "execution_count": 2,
      "source": [
        "def checkNumberExist(x, arr):\r\n",
        "  for i in arr:\r\n",
        "    if i == x:\r\n",
        "      return True\r\n",
        "    else:\r\n",
        "      return False\r\n",
        "arr = [1,2,3,4,5]\r\n",
        "x = int(input())\r\n",
        "print(checkNumberExist(x , arr))\r\n"
      ],
      "outputs": [
        {
          "output_type": "stream",
          "name": "stdout",
          "text": [
            "9\n",
            "False\n"
          ]
        }
      ],
      "metadata": {
        "id": "N2uyMnza1Bkc",
        "outputId": "41328072-517c-40b9-fc56-21e204adaa74",
        "colab": {
          "base_uri": "https://localhost:8080/"
        }
      }
    },
    {
      "cell_type": "markdown",
      "source": [
        "## Đảo ngược dãy số\n",
        "\n",
        "Viết hàm đảo ngược một dãy số\n",
        "\n",
        "Ví dụ: \n",
        "* Input: 1, 2, 3, 4, 5\n",
        "* Output: 5, 4, 3, 2, 1"
      ],
      "metadata": {
        "id": "mbBv-k2SkFVK"
      }
    },
    {
      "cell_type": "code",
      "execution_count": null,
      "source": [
        "def reverseList(arr):\r\n",
        "  # code của bạn ở đây\r\n",
        "  pass\r\n"
      ],
      "outputs": [],
      "metadata": {
        "id": "oz59rx9g1Fx6"
      }
    },
    {
      "cell_type": "markdown",
      "source": [
        "## Số nguyên tố của dãy số\n",
        "\n",
        "Viết hàm trả về các số nguyên tố của một dãy số\n",
        "\n",
        "Ví dụ:\n",
        "* Input: 3, 7, 11, 12, 15\n",
        "* Output: 3, 7, 11"
      ],
      "metadata": {
        "id": "CMIVvurg2OiU"
      }
    },
    {
      "cell_type": "code",
      "execution_count": null,
      "source": [
        "def findPrimeNumbers(arr):\r\n",
        "  # code của bạn ở đây\r\n",
        "  pass\r\n"
      ],
      "outputs": [],
      "metadata": {
        "id": "-3ZMFj3r2TgX"
      }
    },
    {
      "cell_type": "markdown",
      "source": [
        "## Đếm số lần xuất hiện của một phần tử trong dãy số\n",
        "\n",
        "Viết hàm đếm số lần xuất hiện của một phần tử trong dãy số\n",
        "\n",
        "Ví dụ:\n",
        "* Input: 1, 2, 4, 2, 6, 2, 5, 2 và 2\n",
        "* Output: 4 (số 2 xuất hiện 4 lần trong dãy số trên)\n"
      ],
      "metadata": {
        "id": "cCyfKs0q4h-X"
      }
    },
    {
      "cell_type": "code",
      "execution_count": null,
      "source": [
        "def countOccurences(x, arr):\n",
        "  # code của bạn ở đây\n"
      ],
      "outputs": [],
      "metadata": {
        "id": "1pfCY9w04nCN"
      }
    },
    {
      "cell_type": "markdown",
      "source": [
        "## Loại bỏ các phần tử trùng\n",
        "\n",
        "Viết hàm loại bỏ các phần tử trùng của một dãy cho trước. Dãy trả về bao gồm các phần tử chỉ xuất hiện một lần\n",
        "\n",
        "* Input: 10, 20, 30, 20, 20, 30, 40, 50, -20, 60, 60, -20, -20\n",
        "* Output: 10, 20, 30, 40, 50, -20, 60\n"
      ],
      "metadata": {
        "id": "IQX-kblX6FFL"
      }
    },
    {
      "cell_type": "code",
      "execution_count": null,
      "source": [
        "def removeDuplicates(n):\n",
        "  # code của bạn ở đây\n"
      ],
      "outputs": [],
      "metadata": {
        "id": "9-pRgu5w6P3w"
      }
    },
    {
      "cell_type": "markdown",
      "source": [
        "## Tìm N số lớn nhất trong dãy\n",
        "\n",
        "Viết hàm trả về N số lớn nhất trong dãy cho trước\n",
        "\n",
        "* Input: 4, 5, 1, 2, 9 và N=2\n",
        "* Output: 9, 5"
      ],
      "metadata": {
        "id": "5A5TZTYJ2Kae"
      }
    },
    {
      "cell_type": "code",
      "execution_count": null,
      "source": [
        "def findNLargestElements(N, arr):\n",
        "  N = 0\n",
        "  poi = 1\n",
        "  for i in arr:\n",
        "    if(i > N):\n",
        "      N = i\n",
        "      poi = "
      ],
      "outputs": [],
      "metadata": {
        "id": "K2ydHtRR3ebu"
      }
    },
    {
      "cell_type": "markdown",
      "source": [
        "## Tính tổng tích luỹ\n",
        "\n",
        "Viết hàm tính tổng tích luỹ của một dãy. \n",
        "\n",
        "Phần tử thứ $i$ của dãy đầu ra bằng tổng các phần tử $i, i-1, i-2, ...$ của dãy đầu vào\n",
        "\n",
        "* Input: 10, 20, 30, 40, 50\n",
        "* Output: 10, 30, 60, 100, 150"
      ],
      "metadata": {
        "id": "xXSKpzjJ2Wt4"
      }
    },
    {
      "cell_type": "code",
      "execution_count": null,
      "source": [
        "def calcCumulativeSum(N, arr):\n",
        "  # code của bạn ở đây"
      ],
      "outputs": [],
      "metadata": {
        "id": "RfQ2N2Ty3oLy"
      }
    },
    {
      "cell_type": "markdown",
      "source": [
        "## Xoá một số phần tử của dãy\n",
        "\n",
        "Viết hàm xoá một số phần tử của dãy\n",
        "\n",
        "* Input: 12, 15, 3, 10 và 12 và 3 là các phần tử cần xoá\n",
        "* Output: 15, 10"
      ],
      "metadata": {
        "id": "a72UHNxW3OmA"
      }
    },
    {
      "cell_type": "code",
      "execution_count": null,
      "source": [
        "def removeElemetns(arrInput, arrRemove):\n",
        "  # code của bạn ở đây"
      ],
      "outputs": [],
      "metadata": {
        "id": "PkwKGvI74AHU"
      }
    }
  ]
}